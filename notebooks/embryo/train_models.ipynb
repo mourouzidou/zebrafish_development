{
 "cells": [
  {
   "cell_type": "markdown",
   "metadata": {},
   "source": [
    "______________________________________\n"
   ]
  },
  {
   "cell_type": "code",
   "execution_count": 1,
   "metadata": {},
   "outputs": [
    {
     "name": "stderr",
     "output_type": "stream",
     "text": [
      "/sasselab3/home/mourouzidou/zebrafish_development/src/utils/preprocess.py:92: UserWarning: set_ticklabels() should only be used with a fixed number of ticks, i.e. after set_ticks() or using a FixedLocator.\n",
      "  ax.set_xticklabels(x_labels, rotation=45, ha='right', fontsize=6)\n",
      "/sasselab3/home/mourouzidou/zebrafish_development/src/utils/preprocess.py:92: UserWarning: set_ticklabels() should only be used with a fixed number of ticks, i.e. after set_ticks() or using a FixedLocator.\n",
      "  ax.set_xticklabels(x_labels, rotation=45, ha='right', fontsize=6)\n",
      "/sasselab3/home/mourouzidou/zebrafish_development/src/utils/preprocess.py:92: UserWarning: set_ticklabels() should only be used with a fixed number of ticks, i.e. after set_ticks() or using a FixedLocator.\n",
      "  ax.set_xticklabels(x_labels, rotation=45, ha='right', fontsize=6)\n",
      "/sasselab3/home/mourouzidou/zebrafish_development/src/utils/preprocess.py:92: UserWarning: set_ticklabels() should only be used with a fixed number of ticks, i.e. after set_ticks() or using a FixedLocator.\n",
      "  ax.set_xticklabels(x_labels, rotation=45, ha='right', fontsize=6)\n"
     ]
    }
   ],
   "source": [
    "import sys\n",
    "import os\n",
    "import pandas as pd\n",
    "sys.path.append(os.path.abspath(\"../../src\"))\n",
    "from utils.preprocess import preprocess_data, plot_distributions\n",
    "\n",
    "raw_atac_counts = \"../../data/embryo/processed/atac_peaks_with_sequences_2000.csv\"\n",
    "cpm_norm_atac_counts = \"../../data/embryo/processed/atac_mean_filtered_cpm.csv\"\n",
    "plot_dir = \"../../data/embryo/plots\"\n",
    "\n",
    "atac_metadata_df = (\n",
    "    pd.read_csv('../../data/embryo/raw/atac_all.metaData.txt', index_col=0)\n",
    "    [['celltype', 'predictedCell', 'predictedGroup']]\n",
    "    .rename(columns={\n",
    "        'celltype': 'atac_cell_type',\n",
    "        'predictedCell': 'rna_matching_cell',\n",
    "        'predictedGroup': 'rna_cell_type'\n",
    "    })\n",
    "    .reset_index(names=\"atac_cell\")\n",
    ")\n",
    "def extract_stage(cell_id, delimiter='h', pos=0):\n",
    "    return str(cell_id).split(delimiter)[pos].replace('h', '')\n",
    "\n",
    "atac_metadata_df = atac_metadata_df.assign(\n",
    "    rna_stage=lambda df: df['rna_matching_cell'].apply(extract_stage, args=('h', 0)),\n",
    "    atac_stage=lambda df: df['atac_cell'].apply(extract_stage, args=('hpf', 0)),\n",
    "    pseudobulk=lambda df: df['atac_stage'] + '_' + df['atac_cell_type']\n",
    ")\n",
    "pseudobulk_counts = atac_metadata_df['pseudobulk'].value_counts().to_dict()\n",
    "\n",
    "df_raw_log2, df_quant_log2 = preprocess_data(\n",
    "    raw_atac_counts, scale=0, apply_log=True, apply_quantile=True\n",
    ")\n",
    "plot_distributions(\n",
    "    df_raw_log2, df_quant_log2, \n",
    "    title_prefix=\"Raw ATAC Data\",\n",
    "    pseudobulk_counts=pseudobulk_counts,\n",
    "    save_dir=plot_dir\n",
    ")\n",
    "\n",
    "df_cpm_log2, df_quant_cpm_log2 = preprocess_data(\n",
    "    cpm_norm_atac_counts, scale=0, apply_log=True, apply_quantile=True\n",
    ")\n",
    "plot_distributions(\n",
    "    df_cpm_log2, df_quant_cpm_log2,\n",
    "    title_prefix=\"CPM Normalized ATAC Data\",\n",
    "    pseudobulk_counts=pseudobulk_counts,\n",
    "    save_dir=plot_dir\n",
    ")\n"
   ]
  }
 ],
 "metadata": {
  "kernelspec": {
   "display_name": "Python (zebra_env)",
   "language": "python",
   "name": "zebra_env"
  }
 },
 "nbformat": 4,
 "nbformat_minor": 2
}
