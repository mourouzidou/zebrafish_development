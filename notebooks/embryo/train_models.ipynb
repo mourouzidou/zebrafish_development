{
 "cells": [
  {
   "cell_type": "markdown",
   "metadata": {},
   "source": [
    "______________________________________\n"
   ]
  },
  {
   "cell_type": "code",
   "execution_count": null,
   "metadata": {},
   "outputs": [],
   "source": [
    "import sys\n",
    "import os\n",
    "sys.path.append(os.path.abspath(\"../../src\"))\n",
    "from utils.preprocess import *\n",
    "import matplotlib.pyplot as plt\n",
    "import numpy as np\n",
    "\n",
    "raw_atac_counts = \"../../data/embryo/processed/atac_peaks_with_sequences_2000.csv\"\n",
    "cpm_norm_atac_counts = \"../../data/embryo/processed/atac_mean_filtered_cpm.csv\"\n",
    "\n",
    "# Load and plot raw data\n",
    "df_raw_log2, df_quant_log2 = load_and_preprocess_data(raw_atac_counts)\n",
    "plot_distributions(df_raw_log2, df_quant_log2, title_prefix=\"Raw ATAC Data\")\n",
    "\n",
    "# Load and plot CPM normalized data\n",
    "df_cpm_log2, df_quant_cpm_log2 = load_and_preprocess_data(cpm_norm_atac_counts)\n",
    "plot_distributions(df_cpm_log2, df_quant_cpm_log2, title_prefix=\"CPM Normalized ATAC Data\")\n"
   ]
  }
 ],
 "metadata": {
  "kernelspec": {
   "display_name": "zebra_env",
   "language": "python",
   "name": "python3"
  },
  "language_info": {
   "codemirror_mode": {
    "name": "ipython",
    "version": 3
   },
   "file_extension": ".py",
   "mimetype": "text/x-python",
   "name": "python",
   "nbconvert_exporter": "python",
   "pygments_lexer": "ipython3",
   "version": "3.10.18"
  }
 },
 "nbformat": 4,
 "nbformat_minor": 2
}
